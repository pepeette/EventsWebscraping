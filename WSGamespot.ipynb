{
 "cells": [
  {
   "cell_type": "code",
   "execution_count": null,
   "id": "20cfae87-1e27-4635-9245-c5c9e8b7066b",
   "metadata": {},
   "outputs": [],
   "source": [
    "import requests\n",
    "from bs4 import BeautifulSoup\n",
    "import re\n",
    "import csv\n",
    "from time import sleep\n",
    "from random import randint\n",
    "import pandas as pd\n",
    "import json"
   ]
  },
  {
   "cell_type": "code",
   "execution_count": null,
   "id": "b676f981-010c-403a-8f2a-ef768f759b9e",
   "metadata": {},
   "outputs": [],
   "source": [
    "# attention to make the api available on other computers\n",
    "# jupyter kernelgateway --generate-config\n",
    "# /Users/laetitiahoquetis/.jupyter/jupyter_kernel_gateway_config.py\n",
    "# If you want your api to be accessible from other computers, edit the ~/.jupyter/jupyter_kernel_gateway_config.py file. Replace\n",
    "# # c.KernelGatewayApp.ip = '127.0.0.1'\n",
    "# with\n",
    "# c.KernelGatewayApp.ip = '*'"
   ]
  },
  {
   "cell_type": "code",
   "execution_count": null,
   "id": "da8cf1a4-ab65-4666-97d3-9e775c7b24c4",
   "metadata": {},
   "outputs": [],
   "source": [
    "headers = {'User-Agent': 'Mozilla/5.0 (Macintosh; Intel Mac OS X 10_11_5) AppleWebKit/537.36 (KHTML, like Gecko) Chrome/50.0.2661.102 Safari/537.36'}"
   ]
  },
  {
   "cell_type": "code",
   "execution_count": null,
   "id": "cc616713-f274-4026-9477-8353ba12cbba",
   "metadata": {},
   "outputs": [],
   "source": [
    "# url = 'https://www.gamespot.com/games/metroid-prime-4/'\n",
    "# result = requests.get(url, headers=headers)\n",
    "# soup = BeautifulSoup(result.content, \"html.parser\")\n",
    "# #print(page.content.decode())"
   ]
  },
  {
   "cell_type": "code",
   "execution_count": null,
   "id": "7989f1c2-2325-4160-9558-b72bb62e08c0",
   "metadata": {},
   "outputs": [],
   "source": [
    "# same for https://www.gameinformer.com/2023\n",
    "# inside div then <span class=\"calendar_entry\">\n",
    "# get name for s href link\n",
    "# <a href=\"/product/a-space-for-the-unbound\" hreflang=\"en\">A Space for the Unbound</a>\n",
    "# (<em>PlayStation 5, Xbox Series X/S, PlayStation 4, Xbox One, Switch, PC</em>)\t\t– <time datetime=\"00Z\" class=\"datetime\">January 19</time>\n",
    "#  </span>\n",
    "# then platform m\n",
    "# <em>PlayStation 5, Xbox Series X/S, PlayStation 4, Xbox One, Switch, PC</em>\n",
    "# then date \n",
    "# <time datetime=\"00Z\" class=\"datetime\">January 19</time>"
   ]
  },
  {
   "cell_type": "code",
   "execution_count": null,
   "id": "aaa339e5-449a-4290-b56d-fc0417009da5",
   "metadata": {},
   "outputs": [],
   "source": [
    "pages = ['', 'xbox-one', 'ps4', '3ds', 'pc', 'nintendo-switch']\n",
    "event = []\n",
    "date = []"
   ]
  },
  {
   "cell_type": "code",
   "execution_count": null,
   "id": "faa913d9-1ffc-4358-a9c4-3a38fa804324",
   "metadata": {},
   "outputs": [],
   "source": [
    "for page in pages: \n",
    "    url = f\"https://www.gamespot.com/gamespot-50/{page}\"\n",
    "    print(url)\n",
    "    response = requests.get(url, headers=headers)\n",
    "    soup = BeautifulSoup(response.content, \"html.parser\")\n",
    "    titles = soup.find_all(\"h3\")\n",
    "    for t in titles:\n",
    "        try:\n",
    "            event.append(t.a.text.strip())\n",
    "        except Exception:\n",
    "            event.append('n/a')\n",
    "    dates = soup.find_all(class_=\"media-release-date\")\n",
    "    for d in dates:\n",
    "        date.append(d.findChild().text)\n",
    "    print(\"page parsed\")\n",
    "    sleep(randint(2,20))\n",
    "    "
   ]
  },
  {
   "cell_type": "code",
   "execution_count": null,
   "id": "f6062812-9203-4e26-ab8c-a1db3da52c97",
   "metadata": {},
   "outputs": [],
   "source": [
    "# titles = soup.find_all(\"h3\")\n",
    "# for t in titles:\n",
    "#     try:\n",
    "#         event.append(t.a.text.strip())\n",
    "#     except Exception:\n",
    "#         event.append('n/a')\n",
    "    \n",
    "# dates = soup.find_all(class_=\"media-release-date\")\n",
    "# for d in dates:\n",
    "#     date.append(d.findChild().text)"
   ]
  },
  {
   "cell_type": "code",
   "execution_count": null,
   "id": "bb3cb429-9a44-4407-8f4a-8b1221bc3284",
   "metadata": {},
   "outputs": [],
   "source": [
    "pd.set_option('display.max_rows', 500)\n",
    "df = pd.DataFrame(list(zip(event,date)),\n",
    "               columns =['event', 'date'])\n",
    "df = df.drop_duplicates(subset=['event'])\n",
    "df = df[df['event']!= \"n/a\"]\n",
    "df"
   ]
  },
  {
   "cell_type": "code",
   "execution_count": null,
   "id": "882feb6c-3192-4cc3-946a-689069529441",
   "metadata": {},
   "outputs": [],
   "source": [
    "df['paged'] = df['event'].astype(str)\n",
    "df['paged'] = df['paged'].str.lower()\n",
    "df['paged'] = df['paged'].str.replace(\":\",\"\").str.replace(\"'\",\"\").str.replace(\".\",\"\").str.replace(\"&\",\"and\").str.replace(\"- \",\"\")\n",
    "df['paged'] = df['paged'].str.replace(\" \",\"-\")  \n",
    "df['paged'] = df['paged'].apply(lambda x: x.replace(',', ''))\n",
    "df['paged'] = df['paged'].apply(lambda x: x.replace('!', ''))"
   ]
  },
  {
   "cell_type": "code",
   "execution_count": null,
   "id": "1e943ba5-89d2-46d0-8970-5ee6a15fc1cc",
   "metadata": {},
   "outputs": [],
   "source": [
    "# df.event needs to be modified into paged list where space replaced by \"-\"\n",
    "# also lower cased and remove when any \": or ' or . or - \" or ','\n",
    "# then serach for platform = []\n",
    "# then search for des = []"
   ]
  },
  {
   "cell_type": "code",
   "execution_count": null,
   "id": "2da59aad-45d9-43b2-9036-3a4da26fda24",
   "metadata": {},
   "outputs": [],
   "source": [
    "# # #url = f'https://www.gamespot.com/games/'{df.event}\n",
    "# url = 'https://www.gamespot.com/games/resident-evil-4/'\n",
    "# result = requests.get(url, headers=headers)\n",
    "# soup = BeautifulSoup(result.content, \"html.parser\")\n",
    "# #print(result.content.decode())\n",
    "# #ul class = game-module__platform\n",
    "# # #p class = game-module__description"
   ]
  },
  {
   "cell_type": "code",
   "execution_count": null,
   "id": "3a165c48-d58e-4aed-9b49-35e462545cc8",
   "metadata": {},
   "outputs": [],
   "source": [
    "# res = soup.find('ul', attrs={'class' : 'game-module__platform'}).get_text()\n",
    "# type(res)"
   ]
  },
  {
   "cell_type": "code",
   "execution_count": null,
   "id": "3aae17f5-84a8-4958-954e-fe44bb255a43",
   "metadata": {},
   "outputs": [],
   "source": [
    "# soup.find('p', attrs={'class' : 'game-module__description'}).get_text()"
   ]
  },
  {
   "cell_type": "code",
   "execution_count": null,
   "id": "c8e4db83-69c6-4426-9f7c-e1c76b017c21",
   "metadata": {},
   "outputs": [],
   "source": [
    "platform = []\n",
    "des = []"
   ]
  },
  {
   "cell_type": "code",
   "execution_count": null,
   "id": "8b83b9f1-64eb-4c2a-a1d5-0c6b3c4644d7",
   "metadata": {},
   "outputs": [],
   "source": [
    "df"
   ]
  },
  {
   "cell_type": "code",
   "execution_count": null,
   "id": "5c8b05f8-f595-49c7-9abc-8883512d7f05",
   "metadata": {},
   "outputs": [],
   "source": [
    "for page in df.paged: \n",
    "    url = f\"https://www.gamespot.com/games/{page}\"\n",
    "    print(url)\n",
    "    response = requests.get(url, headers=headers)\n",
    "    soup = BeautifulSoup(response.content, \"html.parser\")\n",
    "    res = soup.find('ul', attrs={'class' : 'game-module__platform'}).get_text()\n",
    "    platform.append(res)\n",
    "    desc = soup.find('p', attrs={'class' : 'game-module__description'}).get_text()\n",
    "    des.append(desc)\n",
    "    print(\"page parsed\")\n",
    "    sleep(randint(2,10))\n",
    "    "
   ]
  },
  {
   "cell_type": "code",
   "execution_count": null,
   "id": "2f1b168e-2857-48c9-84a6-508b6884369b",
   "metadata": {},
   "outputs": [],
   "source": [
    "df.head(3)"
   ]
  },
  {
   "cell_type": "code",
   "execution_count": null,
   "id": "bb7795ac-9c48-4246-b485-f41662cb893d",
   "metadata": {},
   "outputs": [],
   "source": [
    "df['platform'] = platform\n",
    "df['des'] = des"
   ]
  },
  {
   "cell_type": "code",
   "execution_count": null,
   "id": "e2658d5b-f181-48af-8b93-5475c869ef9e",
   "metadata": {},
   "outputs": [],
   "source": [
    "df.sample(5)"
   ]
  },
  {
   "cell_type": "code",
   "execution_count": null,
   "id": "d79f4ef8-6797-4d9b-81b1-0452c6c80327",
   "metadata": {},
   "outputs": [],
   "source": [
    "# add another website screening\n",
    "other = []\n",
    "# #url = f'https://www.gamespot.com/games/'{df.event}\n",
    "url = 'https://www.digitaltrends.com/gaming/upcoming-ps5-games//'\n",
    "result = requests.get(url, headers=headers)\n",
    "soup = BeautifulSoup(result.content, \"html.parser\")\n",
    "#print(result.content.decode())\n",
    "#div class = \"b-media__title b-media__title--small\"\n",
    "result = soup.find_all(\"div\", {\"class\":\"b-media__title b-media__title--small\"})\n",
    "for res in result : \n",
    "    other.append(res.text.strip())\n"
   ]
  },
  {
   "cell_type": "code",
   "execution_count": null,
   "id": "94858958-c129-49a8-bfa9-151e529ff1c2",
   "metadata": {},
   "outputs": [],
   "source": [
    "df1 = pd.DataFrame(list(other),\n",
    "               columns =['other'])\n",
    "df1['other1'] = df1['other'].str.split(' ').str.get(0)"
   ]
  },
  {
   "cell_type": "code",
   "execution_count": null,
   "id": "5f317ae0-ebd7-40c9-80a7-448d27349a11",
   "metadata": {},
   "outputs": [],
   "source": [
    "test = []\n",
    "for x in df1['other1']:\n",
    "    if df['event'].str.contains(x).any():\n",
    "        test.append(None)\n",
    "    else:\n",
    "        test.append(x)\n",
    "df1['test'] = test\n",
    "df2 = df1.dropna()\n",
    "df2['date'] = df2['other'].str.split(' - ').str.get(-1)\n",
    "df2['event'] = df2['other'].str.split(' - ').str.get(0)\n",
    "df2 = df2[df2['date'].str.contains(\", 2023\")]\n",
    "df2 = df2[['event','date']]"
   ]
  },
  {
   "cell_type": "code",
   "execution_count": null,
   "id": "1bcf7b44-38d2-45ad-b287-ae1430944951",
   "metadata": {},
   "outputs": [],
   "source": [
    "df3 = df.append(df2)\n",
    "df3"
   ]
  },
  {
   "cell_type": "code",
   "execution_count": null,
   "id": "124310d3-f855-46db-b18f-7c324413d3c4",
   "metadata": {},
   "outputs": [],
   "source": [
    "df3.to_csv('events2023.csv')"
   ]
  },
  {
   "cell_type": "code",
   "execution_count": null,
   "id": "b1d88612-b9b7-4d94-8067-5c94c13ea083",
   "metadata": {},
   "outputs": [],
   "source": [
    "# for page in df.paged[:3]: \n",
    "#     url = f\"https://www.gamespot.com/games/{page}\"\n",
    "#     print(url)\n",
    "#     response = requests.get(url, headers=headers)\n",
    "#     soup = BeautifulSoup(response.content, \"html.parser\")\n",
    "#     plat = soup.find_all('ul',class_=\"game-module__platform\")\n",
    "#     for p in plat:\n",
    "#         pi = p.text\n",
    "#         platform.append(pi.split()[0])\n",
    "#     desc = soup.find_all(class_=\"game-module__description\")\n",
    "#     for d in desc:\n",
    "#         des.append(d.text)\n",
    "#     print(\"page parsed\")\n",
    "#     sleep(randint(2,20))\n",
    "    "
   ]
  },
  {
   "cell_type": "code",
   "execution_count": null,
   "id": "f06cb14d-593a-4d95-a672-2b5bab80c4c0",
   "metadata": {},
   "outputs": [],
   "source": []
  }
 ],
 "metadata": {
  "kernelspec": {
   "display_name": "Python 3 (ipykernel)",
   "language": "python",
   "name": "python3"
  },
  "language_info": {
   "codemirror_mode": {
    "name": "ipython",
    "version": 3
   },
   "file_extension": ".py",
   "mimetype": "text/x-python",
   "name": "python",
   "nbconvert_exporter": "python",
   "pygments_lexer": "ipython3",
   "version": "3.10.8"
  }
 },
 "nbformat": 4,
 "nbformat_minor": 5
}
